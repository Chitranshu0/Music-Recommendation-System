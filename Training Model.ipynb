{
 "cells": [
  {
   "cell_type": "code",
   "execution_count": 1,
   "id": "fda9cc26-28be-43b0-84d8-8965f4d84e92",
   "metadata": {},
   "outputs": [],
   "source": [
    "import numpy as np\n",
    "import pandas as pd\n",
    "from sklearn.feature_extraction.text import CountVectorizer\n",
    "from sklearn.metrics.pairwise import cosine_similarity\n",
    "import pickle"
   ]
  },
  {
   "cell_type": "code",
   "execution_count": 2,
   "id": "e5fdee01",
   "metadata": {},
   "outputs": [],
   "source": [
    "df = pd.read_csv(r\"C:\\Users\\sinha\\Music\\Music Recommadation System on Machine Learning\\Data\\ex.csv\")"
   ]
  },
  {
   "cell_type": "code",
   "execution_count": 3,
   "id": "a010b3e8",
   "metadata": {},
   "outputs": [],
   "source": [
    "df.dropna(inplace=True)\n",
    "df.drop_duplicates(inplace=True)"
   ]
  },
  {
   "cell_type": "code",
   "execution_count": 4,
   "id": "1c6eab2d",
   "metadata": {},
   "outputs": [],
   "source": [
    "df['User-Rating'] = df['User-Rating'].str[:3]"
   ]
  },
  {
   "cell_type": "code",
   "execution_count": 5,
   "id": "bb0cf10a",
   "metadata": {},
   "outputs": [],
   "source": [
    "df['Album/Movie'] = df['Album/Movie'].str.replace(' ', '')\n",
    "df['Singer/Artists'] = df['Singer/Artists'].str.replace(',', '  ')"
   ]
  },
  {
   "cell_type": "code",
   "execution_count": 6,
   "id": "ff59f7ce",
   "metadata": {},
   "outputs": [],
   "source": [
    "df['tags'] = (df['Singer/Artists'] + ' ' + df['Genre'] + ' ' + \n",
    "              df['Album/Movie'] + ' ' + df['User-Rating']).str.lower()"
   ]
  },
  {
   "cell_type": "code",
   "execution_count": 7,
   "id": "ead3d9c1",
   "metadata": {},
   "outputs": [],
   "source": [
    "new_df = df[['Song-Name', 'tags']].rename(columns={'Song-Name': 'title'})"
   ]
  },
  {
   "cell_type": "code",
   "execution_count": 8,
   "id": "fc1a2a95",
   "metadata": {},
   "outputs": [],
   "source": [
    "cv = CountVectorizer(max_features=2000)\n",
    "vectors = cv.fit_transform(new_df['tags']).toarray()"
   ]
  },
  {
   "cell_type": "code",
   "execution_count": 9,
   "id": "7ec912c0",
   "metadata": {},
   "outputs": [],
   "source": [
    "similarity = cosine_similarity(vectors)"
   ]
  },
  {
   "cell_type": "code",
   "execution_count": 10,
   "id": "25be15e3",
   "metadata": {},
   "outputs": [],
   "source": [
    "# Function to recommend songs\n",
    "def recommend(music, new_df=new_df, similarity=similarity):\n",
    "    try:\n",
    "        # Find the index of the given song\n",
    "        music_index = new_df[new_df['title'] == music].index[0]\n",
    "        distances = similarity[music_index]\n",
    "        \n",
    "        # Sort the songs based on similarity scores and get the top 5 recommendations\n",
    "        music_list = sorted(list(enumerate(distances)), reverse=True, key=lambda x: x[1])[1:6]\n",
    "        recommended_songs = [new_df.iloc[i[0]].title for i in music_list]\n",
    "        \n",
    "        return recommended_songs\n",
    "    except IndexError:\n",
    "        return [\"No recommendations found. Try a different song.\"]"
   ]
  },
  {
   "cell_type": "code",
   "execution_count": 11,
   "id": "87174bd7-ec05-43fa-9ac6-fcde126b8a44",
   "metadata": {},
   "outputs": [],
   "source": [
    "pickle.dump(new_df, open('musicrec.pkl', 'wb'))\n",
    "pickle.dump(similarity, open('similarities.pkl', 'wb'))\n"
   ]
  },
  {
   "cell_type": "code",
   "execution_count": null,
   "id": "eecd30d9-cdf7-4146-b885-2697afa2a5c0",
   "metadata": {},
   "outputs": [],
   "source": []
  },
  {
   "cell_type": "code",
   "execution_count": null,
   "id": "813cb6c8",
   "metadata": {},
   "outputs": [],
   "source": []
  },
  {
   "cell_type": "code",
   "execution_count": null,
   "id": "a2ba11d5-465c-4e04-aeec-3b38f4c1dfb9",
   "metadata": {},
   "outputs": [],
   "source": []
  }
 ],
 "metadata": {
  "kernelspec": {
   "display_name": "Python 3",
   "language": "python",
   "name": "python3"
  },
  "language_info": {
   "codemirror_mode": {
    "name": "ipython",
    "version": 3
   },
   "file_extension": ".py",
   "mimetype": "text/x-python",
   "name": "python",
   "nbconvert_exporter": "python",
   "pygments_lexer": "ipython3",
   "version": "3.12.7"
  }
 },
 "nbformat": 4,
 "nbformat_minor": 5
}
